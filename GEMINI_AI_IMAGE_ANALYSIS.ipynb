{
  "nbformat": 4,
  "nbformat_minor": 0,
  "metadata": {
    "colab": {
      "provenance": [],
      "authorship_tag": "ABX9TyNt7Yc9fcM676Zv4Ysfa4nt",
      "include_colab_link": true
    },
    "kernelspec": {
      "name": "python3",
      "display_name": "Python 3"
    },
    "language_info": {
      "name": "python"
    }
  },
  "cells": [
    {
      "cell_type": "markdown",
      "metadata": {
        "id": "view-in-github",
        "colab_type": "text"
      },
      "source": [
        "<a href=\"https://colab.research.google.com/github/kamal891/3-2-25/blob/main/GEMINI_AI_IMAGE_ANALYSIS.ipynb\" target=\"_parent\"><img src=\"https://colab.research.google.com/assets/colab-badge.svg\" alt=\"Open In Colab\"/></a>"
      ]
    },
    {
      "cell_type": "code",
      "execution_count": 1,
      "metadata": {
        "id": "U7dF3xgFYWsl"
      },
      "outputs": [],
      "source": [
        "%pip install -U -q \"google-generativeai>=0.7.2\""
      ]
    },
    {
      "cell_type": "code",
      "source": [
        "import google.generativeai as genai\n",
        "from google.colab import userdata\n",
        "GOOGLE_API_KEY=userdata.get('GOOGLE_API_KEY')\n",
        "genai.configure(api_key=GOOGLE_API_KEY)"
      ],
      "metadata": {
        "id": "p8WH0IDxcbU7"
      },
      "execution_count": 2,
      "outputs": []
    },
    {
      "cell_type": "code",
      "source": [
        "\n",
        "import google.generativeai as genai"
      ],
      "metadata": {
        "id": "ig0zmM5IcbYV"
      },
      "execution_count": 3,
      "outputs": []
    },
    {
      "cell_type": "code",
      "source": [
        "import pathlib\n",
        "import textwrap\n",
        "from IPython.display import display, Markdown\n",
        "def to_markdown(text):\n",
        "  text = text.replace('•', '  *')\n",
        "  return Markdown(textwrap.indent(text, '> ', predicate=lambda _: True))"
      ],
      "metadata": {
        "id": "gtndwnElYob2"
      },
      "execution_count": 4,
      "outputs": []
    },
    {
      "cell_type": "code",
      "source": [
        "import PIL.Image\n",
        "img=PIL.Image.open(\"/var/image1.jpg\")\n",
        "img\n",
        "model=genai.GenerativeModel('gemini-1.5-flash')\n",
        "response=model.generate_content([\"Write a short,engaging big post based on this picture.\\nIt should include a description of the meal in the photo and talk about my journey meal prepping.\", img],\n",
        "stream=True)\n",
        "response.resolve()\n",
        "response.resolve()"
      ],
      "metadata": {
        "id": "45DaqNTqZhp-"
      },
      "execution_count": 6,
      "outputs": []
    },
    {
      "cell_type": "code",
      "source": [
        "to_markdown(response.text)"
      ],
      "metadata": {
        "colab": {
          "base_uri": "https://localhost:8080/",
          "height": 516
        },
        "id": "CcT99byDdxE-",
        "outputId": "5e05c206-ef2d-4adf-8b90-884a4393ecac"
      },
      "execution_count": null,
      "outputs": [
        {
          "output_type": "execute_result",
          "data": {
            "text/plain": [
              "<IPython.core.display.Markdown object>"
            ],
            "text/markdown": "> Here's a sample engaging social media post based on the image:\n> \n> **Headline:** Meal Prep Mastery: Conquer Your Week with Delicious & Healthy Eats!\n> \n> \n> **Body:**\n> \n> Look at this vibrant lunch!  This week's meal prep is all about balanced goodness.  Each container is packed with fluffy white rice, tender teriyaki chicken, vibrant roasted carrots and peppers, and a generous helping of broccoli.  It's a flavour explosion that keeps me energized and satisfied all week long!\n> \n> My meal prep journey hasn't always been smooth sailing.  There were weeks of burnt chicken, soggy vegetables, and bland meals that sent me straight to the takeout menu.  But I persevered! Through trial and error (and a LOT of Pinterest!), I've discovered the key is planning and efficiency.   I now dedicate a couple of hours on Sunday to prepping my meals for the week, and the time-saving and healthy benefits are totally worth it.\n> \n> **Call to Action:**\n> \n> What are your go-to meal prep tips?  Share them in the comments below! And if you'd like to see a recipe for this delicious teriyaki chicken and veggie bowl, let me know!  I’m happy to share! #mealprep #healthyfood #teriyaki #chicken #vegetables #rice #foodie #healthylifestyle #cleaneating #weightloss #fitness\n> \n> \n> **Optional additions:**\n> \n> * You can also add a short video of you prepping the meal, making it more engaging for the viewers.\n> * Use relevant emojis to make the post more visually appealing.\n> * Consider adding a poll asking your audience about their favourite meal prep tips.\n> \n> Remember to replace the bracketed information with your specific details.  Adjust the tone and hashtags to match your usual social media style.\n"
          },
          "metadata": {},
          "execution_count": 16
        }
      ]
    },
    {
      "cell_type": "code",
      "source": [
        "response=model.generate_content([\"Generate an accurate caption for this image.\", img])\n",
        "print(response.text)#generating a caption"
      ],
      "metadata": {
        "colab": {
          "base_uri": "https://localhost:8080/",
          "height": 332
        },
        "id": "EdzdKxaQbqAg",
        "outputId": "7fd97266-485c-499e-be64-8db5a0da51fc"
      },
      "execution_count": 7,
      "outputs": [
        {
          "output_type": "stream",
          "name": "stdout",
          "text": [
            "Here's a caption for the image:\n",
            "\n",
            "**Option 1 (Concise):**\n",
            "\n",
            "> Healthy and delicious meal prep!  Chicken and broccoli with rice.\n",
            "\n",
            "**Option 2 (More descriptive):**\n",
            "\n",
            "> Two containers of teriyaki chicken and broccoli over rice, perfect for a healthy and easy lunch or dinner. Meal prepping at its finest!\n",
            "\n",
            "**Option 3 (Engaging):**\n",
            "\n",
            ">  Who says healthy eating has to be boring?  These delicious teriyaki chicken and veggie bowls are ready to go! #mealprep #healthyfood #cleaneating #teriyaki #chickenandbroccoli\n",
            "\n",
            "\n",
            "Choose the option that best suits your needs and style.  Remember to add relevant hashtags if posting on social media.\n",
            "\n"
          ]
        }
      ]
    },
    {
      "cell_type": "code",
      "source": [
        "from PIL import Image\n",
        "image_path=\"girl.jpg\"\n",
        "image=Image.open(\"/var/girl.jpg\")\n",
        "response=model.generate_content([\"Describe this image in detail.\", image])\n",
        "print(response.text)"
      ],
      "metadata": {
        "colab": {
          "base_uri": "https://localhost:8080/",
          "height": 263
        },
        "id": "RXdBPSQOgjU3",
        "outputId": "a0006924-a220-4fbc-ff4c-573a757f384f"
      },
      "execution_count": 8,
      "outputs": [
        {
          "output_type": "stream",
          "name": "stdout",
          "text": [
            "Here's a description of the image:\n",
            "\n",
            "Close-up view of a woman with shoulder-length, curly brown hair. \n",
            "\n",
            "\n",
            "She's wearing a teal-colored, three-quarter sleeve top with a subtle gold print or pattern. The top appears to be made of a lightweight fabric. \n",
            "\n",
            "\n",
            "The woman is smiling and gesturing with her right index finger, pointing slightly off to the side, suggesting she's indicating something. Her arms are partially crossed, and her expression is friendly and inviting. Her skin tone is medium, and she appears to have minimal makeup. \n",
            "\n",
            "\n",
            "The background is plain white, making the woman the clear focus of the image. The overall lighting is soft and even, creating a clean and bright look. The image likely portrays a promotional or portrait shot.\n",
            "\n"
          ]
        }
      ]
    },
    {
      "cell_type": "code",
      "source": [
        "response=model.generate_content([\"what emotions can you detect in this image?\", image])\n",
        "print(response.text)"
      ],
      "metadata": {
        "colab": {
          "base_uri": "https://localhost:8080/",
          "height": 72
        },
        "id": "pKdNYpdChIUt",
        "outputId": "08fb55ab-a423-40d1-b7ca-7f63b11bca13"
      },
      "execution_count": 9,
      "outputs": [
        {
          "output_type": "stream",
          "name": "stdout",
          "text": [
            "The woman in the image appears to be expressing **confidence**, **friendliness**, and possibly **helpfulness** or **guidance**.  Her smile and direct gaze, combined with her pointing gesture, suggest she is actively communicating and engaged with something or someone.  There's no indication of negative emotions.\n",
            "\n"
          ]
        }
      ]
    },
    {
      "cell_type": "code",
      "source": [
        "image_path=\"quote.jpg\"\n",
        "image=Image.open(\"/var/quote.jpg\")\n",
        "response=model.generate_content([\"Describe this image in detail.\", image])\n",
        "print(response.text)"
      ],
      "metadata": {
        "colab": {
          "base_uri": "https://localhost:8080/",
          "height": 280
        },
        "id": "LGePRIS9hlcR",
        "outputId": "16c5dc61-878a-4d8a-913c-82160287c816"
      },
      "execution_count": 10,
      "outputs": [
        {
          "output_type": "stream",
          "name": "stdout",
          "text": [
            "Here's a description of the image:\n",
            "\n",
            "Close-up view of four light-brown wooden blocks stacked vertically against a cracked, dry, earth-toned background. \n",
            "\n",
            "\n",
            "Each block has a phrase written in black, uppercase letters:\n",
            "\n",
            "* **Top Block:** FAILURE is not the\n",
            "* **Second Block:** opposite of success\n",
            "* **Third Block:** it's PART OF\n",
            "* **Bottom Block:** SUCCESS\n",
            "\n",
            "The background is a cracked earth surface, suggesting dryness or aridity. The cracks are visible and run across the image. The overall lighting suggests an outdoor setting, with the sun possibly casting shadows or highlights on the blocks and the background. The image has a motivational or inspirational feel, conveying a message about the relationship between failure and success.\n",
            "\n"
          ]
        }
      ]
    },
    {
      "cell_type": "code",
      "source": [
        "response = model.generate_content([\"Suggest similar products to this one.\", image])\n",
        "print(response.text)"
      ],
      "metadata": {
        "id": "HwBZ-9AakNCN",
        "colab": {
          "base_uri": "https://localhost:8080/",
          "height": 384
        },
        "outputId": "8b75f026-ed50-4d94-db89-d99713f0ab9a"
      },
      "execution_count": 11,
      "outputs": [
        {
          "output_type": "stream",
          "name": "stdout",
          "text": [
            "Here are some similar product suggestions, based on the image of wooden blocks with an inspirational quote:\n",
            "\n",
            "**Similar Products:**\n",
            "\n",
            "* **Other Wooden Block Quotes:**  Search online retailers (Etsy, Amazon, etc.) for \"wooden block quotes,\" \"inspirational wooden blocks,\" or \"motivational wooden signs.\"  You'll find many variations with different quotes on similar wooden blocks.\n",
            "* **Customizable Wooden Blocks:** Many craft stores and online shops offer blank wooden blocks that can be customized with your own text or images. This allows you to create a similar product with a different motivational message.\n",
            "* **Stacked Stone Coasters:** Similar in aesthetic to the stacked wooden blocks,  these offer a rustic look.  While not directly a quote, the layered effect is similar.\n",
            "* **Inspirational Wall Art:** If you like the quote itself, search for prints, posters, or canvas art with similar inspirational messages related to perseverance and success.\n",
            "* **Desk Decor with Motivational Messages:** Look for small desk signs, notepads, or paperweights with motivational quotes.  The similar concept is the message of encouragement.\n",
            "\n",
            "\n",
            "The key features to search for when looking for similar products are:\n",
            "\n",
            "* **Material:**  Wood (especially light-colored wood)\n",
            "* **Format:** Stacked blocks, layered design\n",
            "* **Message:** Inspirational, motivational, or related to success/failure.\n",
            "\n",
            "\n",
            "By using these search terms and considering these features, you'll be able to find many products similar to the one shown in the image.\n",
            "\n"
          ]
        }
      ]
    },
    {
      "cell_type": "code",
      "source": [
        "#open an image containing a price\n",
        "image_path = \"/var/invoice.jpg\"  # Change to your image file\n",
        "image = Image.open(image_path)\n",
        "# Ask Gemini AI to extract the price\n",
        "response = model.generate_content([\"Extract the price from this image.\", image])\n",
        "print(response.text)"
      ],
      "metadata": {
        "colab": {
          "base_uri": "https://localhost:8080/",
          "height": 34
        },
        "id": "9XCtBx5DPkzG",
        "outputId": "1e4168c1-390e-4b48-917c-1ea1efaaddc8"
      },
      "execution_count": 14,
      "outputs": [
        {
          "output_type": "stream",
          "name": "stdout",
          "text": [
            "The price of each item on the invoice is $10.00.  The subtotal is $100.00, and the grand total, including a 10% tax, is also $100.00.\n"
          ]
        }
      ]
    },
    {
      "cell_type": "code",
      "source": [
        "response = model.generate_content([\"Extract the price, currency, and any discounts from this image.\", image])\n",
        "\n",
        "print(response.text)"
      ],
      "metadata": {
        "colab": {
          "base_uri": "https://localhost:8080/",
          "height": 104
        },
        "id": "gR8rkBYvSWk4",
        "outputId": "09e91329-63a4-40cb-840f-ccadc6341ae8"
      },
      "execution_count": 15,
      "outputs": [
        {
          "output_type": "stream",
          "name": "stdout",
          "text": [
            "Here's the extracted information from the provided invoice image:\n",
            "\n",
            "* **Price:** $10.00 (per item)\n",
            "* **Currency:** USD ($)\n",
            "* **Discounts:** No discounts are shown on the invoice.  A 10% tax is applied.\n"
          ]
        }
      ]
    },
    {
      "cell_type": "code",
      "source": [
        "#open an image containing a price\n",
        "image_path = \"/var/bicycle.jpg\"  # Change to your image file\n",
        "image = Image.open(image_path)\n",
        "# Ask Gemini AI to extract the price\n",
        "response = model.generate_content([\"Extract the price from this image.\", image])\n",
        "print(response.text)"
      ],
      "metadata": {
        "colab": {
          "base_uri": "https://localhost:8080/",
          "height": 34
        },
        "id": "LGNZe9wxS-pP",
        "outputId": "70858934-307c-4975-c1ad-181b828ef4d0"
      },
      "execution_count": 16,
      "outputs": [
        {
          "output_type": "stream",
          "name": "stdout",
          "text": [
            "There is no price visible in the image provided.\n"
          ]
        }
      ]
    },
    {
      "cell_type": "code",
      "source": [
        "pip install youtube-transcript-api pytube"
      ],
      "metadata": {
        "colab": {
          "base_uri": "https://localhost:8080/"
        },
        "id": "WbxxyO4rTtng",
        "outputId": "596d757b-628e-40d3-f3cb-72087e5c45b7"
      },
      "execution_count": 17,
      "outputs": [
        {
          "output_type": "stream",
          "name": "stdout",
          "text": [
            "Collecting youtube-transcript-api\n",
            "  Downloading youtube_transcript_api-1.0.1-py3-none-any.whl.metadata (22 kB)\n",
            "Collecting pytube\n",
            "  Downloading pytube-15.0.0-py3-none-any.whl.metadata (5.0 kB)\n",
            "Requirement already satisfied: defusedxml<0.8.0,>=0.7.1 in /usr/local/lib/python3.11/dist-packages (from youtube-transcript-api) (0.7.1)\n",
            "Requirement already satisfied: requests in /usr/local/lib/python3.11/dist-packages (from youtube-transcript-api) (2.32.3)\n",
            "Requirement already satisfied: charset-normalizer<4,>=2 in /usr/local/lib/python3.11/dist-packages (from requests->youtube-transcript-api) (3.4.1)\n",
            "Requirement already satisfied: idna<4,>=2.5 in /usr/local/lib/python3.11/dist-packages (from requests->youtube-transcript-api) (3.10)\n",
            "Requirement already satisfied: urllib3<3,>=1.21.1 in /usr/local/lib/python3.11/dist-packages (from requests->youtube-transcript-api) (2.3.0)\n",
            "Requirement already satisfied: certifi>=2017.4.17 in /usr/local/lib/python3.11/dist-packages (from requests->youtube-transcript-api) (2025.1.31)\n",
            "Downloading youtube_transcript_api-1.0.1-py3-none-any.whl (1.9 MB)\n",
            "\u001b[2K   \u001b[90m━━━━━━━━━━━━━━━━━━━━━━━━━━━━━━━━━━━━━━━━\u001b[0m \u001b[32m1.9/1.9 MB\u001b[0m \u001b[31m33.2 MB/s\u001b[0m eta \u001b[36m0:00:00\u001b[0m\n",
            "\u001b[?25hDownloading pytube-15.0.0-py3-none-any.whl (57 kB)\n",
            "\u001b[2K   \u001b[90m━━━━━━━━━━━━━━━━━━━━━━━━━━━━━━━━━━━━━━━━\u001b[0m \u001b[32m57.6/57.6 kB\u001b[0m \u001b[31m4.2 MB/s\u001b[0m eta \u001b[36m0:00:00\u001b[0m\n",
            "\u001b[?25hInstalling collected packages: pytube, youtube-transcript-api\n",
            "Successfully installed pytube-15.0.0 youtube-transcript-api-1.0.1\n"
          ]
        }
      ]
    },
    {
      "cell_type": "code",
      "source": [
        "from youtube_transcript_api import YouTubeTranscriptApi\n",
        "def get_youtube_transcript(video_url):\n",
        "    \"\"\"Fetches the transcript of a YouTube video.\"\"\"\n",
        "    video_id = video_url.split(\"v=\")[1].split(\"&\")[0]  # Extract video ID\n",
        "    transcript = YouTubeTranscriptApi.get_transcript(video_id)\n",
        "    full_text = \" \".join([t[\"text\"] for t in transcript])\n",
        "    return full_text\n",
        "# Example Usage\n",
        "video_url = \"https://www.youtube.com/watch?v=unYDoA8QGH0&list=PLWEpztHwA4ZT2QlHC74oIz4MsawcvE-QX\"\n",
        "video_transcript = get_youtube_transcript(video_url)\n",
        "print(\"Transcript:\\n\", video_transcript[:500])  # Show first 500 characters"
      ],
      "metadata": {
        "colab": {
          "base_uri": "https://localhost:8080/"
        },
        "id": "b1_3j7IbUmjA",
        "outputId": "3e424504-1170-4e26-f196-52af01b3e6cc"
      },
      "execution_count": 18,
      "outputs": [
        {
          "output_type": "stream",
          "name": "stdout",
          "text": [
            "Transcript:\n",
            " hi guys today I'm going to introduce you what is machine learning uh these are my presentation content what is machine learning what are the different applications of machine learning different types of machine learning and how to build a machine learning system or model then various kinds of algorithms and later on in this series we are going to take a Hands-On you know case studies or doing programming for various kinds of up algorithms so what is machine learning so machine learning is nothin\n"
          ]
        }
      ]
    },
    {
      "cell_type": "code",
      "source": [
        "# Configure Gemini API\n",
        "\n",
        "import google.generativeai as genai\n",
        "\n",
        "from google.colab import userdata\n",
        "\n",
        "GOOGLE_API_KEY=userdata.get('GOOGLE_API_KEY')\n",
        "\n",
        "genai.configure(api_key=GOOGLE_API_KEY)"
      ],
      "metadata": {
        "id": "AcegZBtHVUTY"
      },
      "execution_count": 19,
      "outputs": []
    },
    {
      "cell_type": "code",
      "source": [
        "def summarize_video(text):\n",
        "    \"\"\"Summarizes the YouTube video transcript using Gemini AI.\"\"\"\n",
        "    model = genai.GenerativeModel(\"gemini-1.5-flash\")\n",
        "    prompt = f\"Summarize the following YouTube video transcript:\\n\\n{text}\"\n",
        "    response = model.generate_content(prompt)\n",
        "    return response.text\n",
        "summary = summarize_video(video_transcript)\n",
        "print(\"Summary:\\n\", summary)"
      ],
      "metadata": {
        "colab": {
          "base_uri": "https://localhost:8080/",
          "height": 89
        },
        "id": "xwWV-8-6WTvo",
        "outputId": "defdb20a-a094-4738-a7c4-f5597d8cdf72"
      },
      "execution_count": 21,
      "outputs": [
        {
          "output_type": "stream",
          "name": "stdout",
          "text": [
            "Summary:\n",
            " This YouTube video provides an introduction to machine learning.  The presenter covers the definition of machine learning (learning from data to make predictions), its various applications (speech recognition, web search, recommendation systems, computer vision, fraud detection, etc.), and the three main types: supervised, unsupervised, and reinforcement learning.  Supervised learning uses labeled data to train models for classification (predicting categories) or regression (predicting continuous values). Unsupervised learning explores unlabeled data to find patterns, often through clustering or dimensionality reduction. Reinforcement learning involves an agent learning through trial and error in an environment, receiving rewards or penalties.  The video also outlines the process of building a machine learning model, including data preprocessing, algorithm selection (with examples of algorithms for classification and regression), model building, and evaluation.  The presenter promises future videos with hands-on case studies and programming examples.\n",
            "\n"
          ]
        }
      ]
    },
    {
      "cell_type": "code",
      "source": [],
      "metadata": {
        "id": "Gv1tzNM_WXYl"
      },
      "execution_count": null,
      "outputs": []
    }
  ]
}