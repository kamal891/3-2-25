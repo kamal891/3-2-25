{
  "nbformat": 4,
  "nbformat_minor": 0,
  "metadata": {
    "colab": {
      "provenance": [],
      "authorship_tag": "ABX9TyMRzbMyPStNO9mu5eGuJJAH",
      "include_colab_link": true
    },
    "kernelspec": {
      "name": "python3",
      "display_name": "Python 3"
    },
    "language_info": {
      "name": "python"
    }
  },
  "cells": [
    {
      "cell_type": "markdown",
      "metadata": {
        "id": "view-in-github",
        "colab_type": "text"
      },
      "source": [
        "<a href=\"https://colab.research.google.com/github/kamal891/3-2-25/blob/main/GEMINI_AI_IMAGE_ANALYSIS.ipynb\" target=\"_parent\"><img src=\"https://colab.research.google.com/assets/colab-badge.svg\" alt=\"Open In Colab\"/></a>"
      ]
    },
    {
      "cell_type": "code",
      "execution_count": 6,
      "metadata": {
        "id": "U7dF3xgFYWsl"
      },
      "outputs": [],
      "source": [
        "%pip install -U -q \"google-generativeai>=0.7.2\""
      ]
    },
    {
      "cell_type": "code",
      "source": [
        "import google.generativeai as genai\n",
        "from google.colab import userdata\n",
        "GOOGLE_API_KEY=userdata.get('GOOGLE_API_KEY')\n",
        "genai.configure(api_key=GOOGLE_API_KEY)"
      ],
      "metadata": {
        "id": "p8WH0IDxcbU7"
      },
      "execution_count": 7,
      "outputs": []
    },
    {
      "cell_type": "code",
      "source": [
        "\n",
        "import google.generativeai as genai"
      ],
      "metadata": {
        "id": "ig0zmM5IcbYV"
      },
      "execution_count": 13,
      "outputs": []
    },
    {
      "cell_type": "code",
      "source": [
        "import pathlib\n",
        "import textwrap\n",
        "from IPython.display import display, Markdown\n",
        "def to_markdown(text):\n",
        "  text = text.replace('•', '  *')\n",
        "  return Markdown(textwrap.indent(text, '> ', predicate=lambda _: True))"
      ],
      "metadata": {
        "id": "gtndwnElYob2"
      },
      "execution_count": 11,
      "outputs": []
    },
    {
      "cell_type": "code",
      "source": [
        "import PIL.Image\n",
        "img=PIL.Image.open(\"/var/image1.jpg\")\n",
        "img\n",
        "model=genai.GenerativeModel('gemini-1.5-flash')\n",
        "response=model.generate_content([\"Write a short,engaging big post based on this picture.\\nIt should include a description of the meal in the photo and talk about my journey meal prepping.\", img],\n",
        "stream=True)\n",
        "response.resolve()\n",
        "response.resolve()"
      ],
      "metadata": {
        "id": "45DaqNTqZhp-"
      },
      "execution_count": 15,
      "outputs": []
    },
    {
      "cell_type": "code",
      "source": [
        "to_markdown(response.text)"
      ],
      "metadata": {
        "colab": {
          "base_uri": "https://localhost:8080/",
          "height": 411
        },
        "id": "CcT99byDdxE-",
        "outputId": "5e05c206-ef2d-4adf-8b90-884a4393ecac"
      },
      "execution_count": 16,
      "outputs": [
        {
          "output_type": "execute_result",
          "data": {
            "text/plain": [
              "<IPython.core.display.Markdown object>"
            ],
            "text/markdown": "> Here's a sample engaging social media post based on the image:\n> \n> **Headline:** Meal Prep Mastery: Conquer Your Week with Delicious & Healthy Eats!\n> \n> \n> **Body:**\n> \n> Look at this vibrant lunch!  This week's meal prep is all about balanced goodness.  Each container is packed with fluffy white rice, tender teriyaki chicken, vibrant roasted carrots and peppers, and a generous helping of broccoli.  It's a flavour explosion that keeps me energized and satisfied all week long!\n> \n> My meal prep journey hasn't always been smooth sailing.  There were weeks of burnt chicken, soggy vegetables, and bland meals that sent me straight to the takeout menu.  But I persevered! Through trial and error (and a LOT of Pinterest!), I've discovered the key is planning and efficiency.   I now dedicate a couple of hours on Sunday to prepping my meals for the week, and the time-saving and healthy benefits are totally worth it.\n> \n> **Call to Action:**\n> \n> What are your go-to meal prep tips?  Share them in the comments below! And if you'd like to see a recipe for this delicious teriyaki chicken and veggie bowl, let me know!  I’m happy to share! #mealprep #healthyfood #teriyaki #chicken #vegetables #rice #foodie #healthylifestyle #cleaneating #weightloss #fitness\n> \n> \n> **Optional additions:**\n> \n> * You can also add a short video of you prepping the meal, making it more engaging for the viewers.\n> * Use relevant emojis to make the post more visually appealing.\n> * Consider adding a poll asking your audience about their favourite meal prep tips.\n> \n> Remember to replace the bracketed information with your specific details.  Adjust the tone and hashtags to match your usual social media style.\n"
          },
          "metadata": {},
          "execution_count": 16
        }
      ]
    },
    {
      "cell_type": "code",
      "source": [
        "response=model.generate_content([\"Generate an accurate caption for this image.\", img])\n",
        "print(response.text)#generating a caption"
      ],
      "metadata": {
        "colab": {
          "base_uri": "https://localhost:8080/",
          "height": 401
        },
        "id": "EdzdKxaQbqAg",
        "outputId": "f755d742-6943-4caa-ad5c-0f670994bccf"
      },
      "execution_count": 18,
      "outputs": [
        {
          "output_type": "stream",
          "name": "stdout",
          "text": [
            "Here are a few caption options for the image:\n",
            "\n",
            "**Option 1 (Simple & descriptive):**\n",
            "\n",
            "> Healthy and delicious meal prep!  Chicken, broccoli, carrots, and rice.\n",
            "\n",
            "**Option 2 (More engaging):**\n",
            "\n",
            "> Lunch goals!  These chicken and veggie bowls are packed with flavor and ready to go.  Perfect for a busy week. #mealprep #healthyfood #cleaneating #lunchideas\n",
            "\n",
            "**Option 3 (Focus on convenience):**\n",
            "\n",
            "> Easy weeknight dinners sorted!  These prepped meals are perfect for grabbing and going. #mealprepsunday #healthymeals #conveniencefood\n",
            "\n",
            "\n",
            "**Option 4 (Question to engage audience):**\n",
            "\n",
            "> What's your favorite healthy meal prep recipe?  These chicken and veggie bowls are definitely a contender! #mealprepideas #healthyeating #dinnerideas\n",
            "\n",
            "Choose the caption that best suits your intended audience and platform.\n",
            "\n"
          ]
        }
      ]
    },
    {
      "cell_type": "code",
      "source": [
        "from PIL import Image\n",
        "image_path=\"girl.jpg\"\n",
        "image=Image.open(\"/var/girl.jpg\")\n",
        "response=model.generate_content([\"Describe this image in detail.\", image])\n",
        "print(response.text)"
      ],
      "metadata": {
        "colab": {
          "base_uri": "https://localhost:8080/",
          "height": 141
        },
        "id": "RXdBPSQOgjU3",
        "outputId": "9407ecfa-0dc8-483b-976a-0a885eaf10c5"
      },
      "execution_count": 21,
      "outputs": [
        {
          "output_type": "stream",
          "name": "stdout",
          "text": [
            "Here's a description of the image:\n",
            "\n",
            "Close-up view of a woman with shoulder-length, curly brown hair. \n",
            "\n",
            "\n",
            "She is smiling and gesturing with her right index finger, pointing towards something off-camera, suggesting an indication or direction. Her arms are folded across her chest, with one arm partially visible beneath the other. She is wearing a teal-colored, three-quarter-sleeved top with a subtle, light gold or yellow floral print. The top appears to be made of a soft material. The background is a plain, bright white, which makes the woman and her clothing stand out. The woman's expression is friendly and approachable. Her skin tone is medium, and she has dark eyes and eyebrows. She appears to be of South Asian descent.  Her makeup is minimal and natural-looking.\n"
          ]
        }
      ]
    },
    {
      "cell_type": "code",
      "source": [
        "response=model.generate_content([\"what emotions can you detect in this image?\", image])\n",
        "print(response.text)"
      ],
      "metadata": {
        "colab": {
          "base_uri": "https://localhost:8080/",
          "height": 72
        },
        "id": "pKdNYpdChIUt",
        "outputId": "77f33072-7639-463c-bfb5-ba3b9e8eae64"
      },
      "execution_count": 22,
      "outputs": [
        {
          "output_type": "stream",
          "name": "stdout",
          "text": [
            "The woman in the image appears to be expressing happiness, confidence, and possibly helpfulness or engagement.  Her smile is genuine, her posture is open, and her gesture of pointing suggests she's directing attention to something.\n",
            "\n"
          ]
        }
      ]
    },
    {
      "cell_type": "code",
      "source": [
        "image_path=\"quote.jpg\"\n",
        "image=Image.open(\"/var/quote.jpg\")\n",
        "response=model.generate_content([\"Describe this image in detail.\", image])\n",
        "print(response.text)"
      ],
      "metadata": {
        "colab": {
          "base_uri": "https://localhost:8080/",
          "height": 280
        },
        "id": "LGePRIS9hlcR",
        "outputId": "76fa7f93-ffbc-4fde-8468-6cc8eb29676c"
      },
      "execution_count": 23,
      "outputs": [
        {
          "output_type": "stream",
          "name": "stdout",
          "text": [
            "Here's a description of the image:\n",
            "\n",
            "Close-up view of four light-brown wooden blocks stacked vertically on a cracked, light-brown earth or stone surface. \n",
            "\n",
            "\n",
            "Each block has a phrase printed in dark, sans-serif lettering. The phrases read:\n",
            "\n",
            "* **FAILURE is not the** (top block)\n",
            "* **opposite of success** (second block)\n",
            "* **it's PART OF** (third block)\n",
            "* **SUCCESS** (bottom block)\n",
            "\n",
            "The background is a textured surface with visible cracks, suggesting dry earth or stone. The lighting is natural, possibly outdoors, with shadows and highlights on the background texture. The overall impression is one of a motivational message conveyed in a rustic, earthy setting. The blocks are neatly stacked and the message is clear and legible.\n",
            "\n"
          ]
        }
      ]
    },
    {
      "cell_type": "code",
      "source": [],
      "metadata": {
        "id": "HwBZ-9AakNCN"
      },
      "execution_count": null,
      "outputs": []
    }
  ]
}